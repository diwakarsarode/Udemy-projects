{
 "cells": [
  {
   "cell_type": "code",
   "execution_count": 2,
   "id": "90a27759",
   "metadata": {},
   "outputs": [
    {
     "name": "stdout",
     "output_type": "stream",
     "text": [
      "My Name is Diwakar\n",
      "Diwakar\n",
      "I am from Bengaluru\n",
      "Bengaluru\n",
      "My age is 28\n",
      "28\n"
     ]
    }
   ],
   "source": [
    "# Review: \n",
    "# Create a function called greet(). \n",
    "# Write 3 print statements inside the function.\n",
    "# Call the greet() function and run your code.\n",
    "\n",
    "\n",
    "def greet():\n",
    "    print(input(\"My Name is \"))\n",
    "    print(input(\"I am from \"))\n",
    "    print(input(\"My age is \"))\n",
    "\n",
    "greet()"
   ]
  },
  {
   "cell_type": "markdown",
   "id": "da1b770e",
   "metadata": {},
   "source": [
    "## Below is an example of positional arguments:"
   ]
  },
  {
   "cell_type": "code",
   "execution_count": 6,
   "id": "dace8917",
   "metadata": {},
   "outputs": [
    {
     "name": "stdout",
     "output_type": "stream",
     "text": [
      "My Name is Diwakar\n",
      "I am from Bengaluru\n",
      "My age is 28\n"
     ]
    }
   ],
   "source": [
    "def greet(name, location, age):\n",
    "    print(f\"My Name is {name}\")\n",
    "    print(f\"I am from {location}\")\n",
    "    print(f\"My age is {age}\")\n",
    "\n",
    "greet(\"Diwakar\", \"Bengaluru\", 28)"
   ]
  },
  {
   "cell_type": "markdown",
   "id": "5518a5c6",
   "metadata": {},
   "source": [
    "## Below is an example of keyword arguments (**kwargs):"
   ]
  },
  {
   "cell_type": "code",
   "execution_count": 7,
   "id": "dccd8d44",
   "metadata": {},
   "outputs": [
    {
     "name": "stdout",
     "output_type": "stream",
     "text": [
      "My Name is 28\n",
      "I am from Diwakar\n",
      "My age is Bengaluru\n"
     ]
    }
   ],
   "source": [
    "def greet(name, location, age):\n",
    "    print(f\"My Name is {name}\")\n",
    "    print(f\"I am from {location}\")\n",
    "    print(f\"My age is {age}\")\n",
    "\n",
    "greet(location = \"Diwakar\", age = \"Bengaluru\", name = 28)"
   ]
  },
  {
   "cell_type": "markdown",
   "id": "aaa6a06e",
   "metadata": {},
   "source": [
    "#### Instructions\n",
    "\n",
    "You are painting a wall. The instructions on the paint can says that 1 can of paint can cover 5 square meters of wall. Given a random height and width of wall, calculate how many cans of paint you'll need to buy.\n",
    "\n",
    "number of cans = (wall height x wall width) ÷ coverage per can.\n",
    "\n",
    "e.g. Height = 2, Width = 4, Coverage = 5\n",
    "\n",
    "number of cans = (2 \\* 4) / 5\n",
    "               = 1.6\n",
    "\n",
    "But because you can't buy 0.6 of a can of paint, the result should be rounded up to 2 cans.\n",
    "\n",
    "IMPORTANT: Notice the name of the function and parameters must match those on line 13 for the code to work.\n",
    "Example Input\n",
    "\n",
    "3\n",
    "9\n",
    "\n",
    "Example Output\n",
    "\n",
    "You'll need 6 cans of paint.\n",
    "\n",
    "Hint\n",
    "\n",
    "Stackoveflow link on how to round up a number: https://stackoverflow.com/questions/2356501/how-do-you-round-up-a-number-in-python\n"
   ]
  },
  {
   "cell_type": "code",
   "execution_count": 9,
   "id": "892d9573",
   "metadata": {},
   "outputs": [
    {
     "name": "stdout",
     "output_type": "stream",
     "text": [
      "Height of the wall is 18\n",
      "Width of the wall is 65\n",
      "You'll need 234 cans of paint.\n"
     ]
    }
   ],
   "source": [
    "# Write your code below this line 👇\n",
    "import math\n",
    "def paint_calc(height, width, cover):\n",
    "    no_of_cans = math.ceil(((test_h * test_w) / coverage))\n",
    "    print(f\"You'll need {no_of_cans} cans of paint.\")\n",
    "\n",
    "\n",
    "\n",
    "# Write your code above this line 👆\n",
    "# Define a function called paint_calc() so the code below works.   \n",
    "\n",
    "# 🚨 Don't change the code below 👇\n",
    "test_h = int(input(\"Height of the wall is \")) # Height of wall (m)\n",
    "test_w = int(input(\"Width of the wall is \")) # Width of wall (m)\n",
    "coverage = 5\n",
    "paint_calc(height=test_h, width=test_w, cover=coverage)"
   ]
  },
  {
   "cell_type": "markdown",
   "id": "4f6b88e2",
   "metadata": {},
   "source": [
    "#### Instructions\n",
    "\n",
    "Prime numbers are numbers that can only be cleanly divided by themselves and 1.\n",
    "\n",
    "https://en.wikipedia.org/wiki/Prime_number\n",
    "\n",
    "You need to write a function that checks whether if the number passed into it is a prime number or not.\n",
    "\n",
    "e.g. 2 is a prime number because it's only divisible by 1 and 2.\n",
    "\n",
    "But 4 is not a prime number because you can divide it by 1, 2 or 4.\n",
    "\n",
    "Prime number graphic\n",
    "\n",
    "Here are the numbers up to 100, prime numbers are highlighted in yellow:\n",
    "\n",
    "First 100 Primes\n",
    "Example Input 1\n",
    "\n",
    "73\n",
    "\n",
    "Example Output 1\n",
    "\n",
    "It's a prime number.\n",
    "\n",
    "Example Input 2\n",
    "\n",
    "75\n",
    "\n",
    "Example Output 2\n",
    "\n",
    "It's not a prime number.\n",
    "\n"
   ]
  },
  {
   "cell_type": "code",
   "execution_count": 30,
   "id": "606104c2",
   "metadata": {},
   "outputs": [
    {
     "name": "stdout",
     "output_type": "stream",
     "text": [
      "Enter a number to check if it's a prime number 65\n",
      "It's not a prime number.\n"
     ]
    }
   ],
   "source": [
    "# Write your code below this line 👇\n",
    "\n",
    "def prime_checker(number):\n",
    "    is_prime = True\n",
    "    for i in range(2, number):\n",
    "        if number % i == 0:\n",
    "            is_prime = False\n",
    "    if is_prime:\n",
    "        print(\"It's a prime number.\")\n",
    "    else:\n",
    "        print(\"It's not a prime number.\")\n",
    "\n",
    "\n",
    "\n",
    "\n",
    "# Write your code above this line 👆\n",
    "    \n",
    "#Do NOT change any of the code below👇\n",
    "n = int(input(\"Enter a number to check if it's a prime number \")) # Check this number\n",
    "prime_checker(number=n)"
   ]
  },
  {
   "cell_type": "markdown",
   "id": "9bd80bbb",
   "metadata": {},
   "source": [
    "## Ceasar Cipher part 1"
   ]
  },
  {
   "cell_type": "code",
   "execution_count": 51,
   "id": "37ac43b9",
   "metadata": {},
   "outputs": [
    {
     "name": "stdout",
     "output_type": "stream",
     "text": [
      "Type 'encode' to encrypt, type 'decode' to decrypt:\n",
      "encode\n",
      "Type your message:\n",
      "Hello\n",
      "Type the shift number:\n",
      "5\n",
      "The encoded text is mjqqt\n"
     ]
    }
   ],
   "source": [
    "alphabet = ['a', 'b', 'c', 'd', 'e', 'f', 'g', 'h', 'i', 'j', 'k', 'l', 'm', \n",
    "            'n', 'o', 'p', 'q', 'r', 's', 't', 'u', 'v', 'w', 'x', 'y', 'z', \n",
    "            'a', 'b', 'c', 'd', 'e', 'f', 'g', 'h', 'i', 'j', 'k', 'l', 'm', \n",
    "            'n', 'o', 'p', 'q', 'r', 's', 't', 'u', 'v', 'w', 'x', 'y', 'z']\n",
    "\n",
    "direction = input(\"Type 'encode' to encrypt, type 'decode' to decrypt:\\n\")\n",
    "text = input(\"Type your message:\\n\").lower()\n",
    "shift = int(input(\"Type the shift number:\\n\"))\n",
    "\n",
    "# alphabet[0 + 1]\n",
    "\n",
    "#TODO-1: Create a function called 'encrypt' that takes the 'text' and 'shift' as inputs.\n",
    "def encrypt(message, shift_amount):\n",
    "    cipher_text = \"\"\n",
    "    for i in message:\n",
    "        position = alphabet.index(i)\n",
    "        new_position = position + shift_amount\n",
    "        new_letter = alphabet[new_position]\n",
    "        cipher_text += new_letter\n",
    "    print(f\"The encoded text is {cipher_text}\")\n",
    "\n",
    "encrypt(message = text, shift_amount = shift)\n",
    "\n",
    "    #TODO-2: Inside the 'encrypt' function, shift each letter of the 'text' forwards in the alphabet by the shift amount\n",
    "    # and print the encrypted text.  \n",
    "    #e.g. \n",
    "    #plain_text = \"hello\"\n",
    "    #shift = 5\n",
    "    #cipher_text = \"mjqqt\"\n",
    "    #print output: \"The encoded text is mjqqt\"\n",
    "\n",
    "    ##HINT: How do you get the index of an item in a list:\n",
    "    #https://stackoverflow.com/questions/176918/finding-the-index-of-an-item-in-a-list\n",
    "\n",
    "    ##🐛Bug alert: What happens if you try to encode the word 'civilization'?🐛\n",
    "\n",
    "#TODO-3: Call the encrypt function and pass in the user inputs. You should be able to test the code and encrypt a message. "
   ]
  },
  {
   "cell_type": "markdown",
   "id": "51eaad66",
   "metadata": {},
   "source": [
    "## Ceasar Cipher part 2"
   ]
  },
  {
   "cell_type": "code",
   "execution_count": 63,
   "id": "d4ebe670",
   "metadata": {},
   "outputs": [
    {
     "name": "stdout",
     "output_type": "stream",
     "text": [
      "Type 'encode' to encrypt, type 'decode' to decrypt:\n",
      "decode\n",
      "Type your message:\n",
      "ifg\n",
      "Type the shift number:\n",
      "5\n",
      "The decoded text is dab\n"
     ]
    }
   ],
   "source": [
    "alphabet = ['a', 'b', 'c', 'd', 'e', 'f', 'g', 'h', 'i', 'j', 'k', 'l', 'm', \n",
    "            'n', 'o', 'p', 'q', 'r', 's', 't', 'u', 'v', 'w', 'x', 'y', 'z', \n",
    "            'a', 'b', 'c', 'd', 'e', 'f', 'g', 'h', 'i', 'j', 'k', 'l', 'm', \n",
    "            'n', 'o', 'p', 'q', 'r', 's', 't', 'u', 'v', 'w', 'x', 'y', 'z']\n",
    "\n",
    "direction = input(\"Type 'encode' to encrypt, type 'decode' to decrypt:\\n\")\n",
    "text = input(\"Type your message:\\n\").lower()\n",
    "shift = int(input(\"Type the shift number:\\n\"))\n",
    "\n",
    "def encrypt(message, shift_amount):\n",
    "    cipher_text = \"\"\n",
    "    for i in message:\n",
    "        position = alphabet.index(i)\n",
    "        new_position = position + shift_amount\n",
    "        new_letter = alphabet[new_position]\n",
    "        cipher_text += new_letter\n",
    "    print(f\"The encoded text is {cipher_text}\")\n",
    "\n",
    "\n",
    "\n",
    "#TODO-1: Create a different function called 'decrypt' that takes the 'text' and 'shift' as inputs.\n",
    "\n",
    "def decrypt(message, shift_amount):\n",
    "    decrypted_text = \"\"\n",
    "    for i in message:\n",
    "        de_position = alphabet.index(i)\n",
    "        new_de_position = de_position - shift_amount\n",
    "        new_de_letter = alphabet[new_de_position]\n",
    "        decrypted_text += new_de_letter\n",
    "    print(f\"The decoded text is {decrypted_text}\")\n",
    "\n",
    "\n",
    "  #TODO-2: Inside the 'decrypt' function, shift each letter of the 'text' *backwards* in the alphabet by \n",
    "  # the shift amount and print the decrypted text.  \n",
    "  #e.g. \n",
    "  #cipher_text = \"mjqqt\"\n",
    "  #shift = 5\n",
    "  #plain_text = \"hello\"\n",
    "  #print output: \"The decoded text is hello\"\n",
    "\n",
    "\n",
    "# TODO-3: Check if the user wanted to encrypt or decrypt the message by checking the 'direction' variable. \n",
    "# Then call the correct function based on that 'drection' variable. You should be able to test the code to encrypt \n",
    "# *AND* decrypt a message.\n",
    "\n",
    "if direction == \"encode\":\n",
    "    encrypt(message = text, shift_amount = shift)\n",
    "elif direction == \"decode\":\n",
    "    decrypt(message = text, shift_amount = shift)\n",
    "else:\n",
    "    print(\"Please choose the correct option\")\n"
   ]
  },
  {
   "cell_type": "markdown",
   "id": "85175566",
   "metadata": {},
   "source": [
    "## Ceasar Cipher part 3"
   ]
  },
  {
   "cell_type": "code",
   "execution_count": 74,
   "id": "3d9e05cb",
   "metadata": {},
   "outputs": [
    {
     "name": "stdout",
     "output_type": "stream",
     "text": [
      "Type 'encode' to encrypt, type 'decode' to decrypt:\n",
      "decode\n",
      "Type your message:\n",
      "mjqqt\n",
      "Type the shift number:\n",
      "5\n",
      "The decoded text is hello\n"
     ]
    }
   ],
   "source": [
    "alphabet = ['a', 'b', 'c', 'd', 'e', 'f', 'g', 'h', 'i', 'j', 'k', 'l', 'm', \n",
    "            'n', 'o', 'p', 'q', 'r', 's', 't', 'u', 'v', 'w', 'x', 'y', 'z', \n",
    "            'a', 'b', 'c', 'd', 'e', 'f', 'g', 'h', 'i', 'j', 'k', 'l', 'm', \n",
    "            'n', 'o', 'p', 'q', 'r', 's', 't', 'u', 'v', 'w', 'x', 'y', 'z']\n",
    "\n",
    "direction = input(\"Type 'encode' to encrypt, type 'decode' to decrypt:\\n\")\n",
    "text = input(\"Type your message:\\n\").lower()\n",
    "shift = int(input(\"Type the shift number:\\n\"))\n",
    "\n",
    "#TODO-1: Combine the encrypt() and decrypt() functions into a single function called caesar(). \n",
    "\n",
    "def caesar(message, shift_amount, cipher_direction):\n",
    "    text = \"\"\n",
    "    if cipher_direction == \"decode\":\n",
    "        shift_amount *= -1\n",
    "    for i in message:\n",
    "        position = alphabet.index(i)\n",
    "        new_position = position + shift_amount\n",
    "        text += alphabet[new_position]\n",
    "    print(f\"The {cipher_direction}d text is {text}\")\n",
    "\n",
    "#TODO-2: Call the caesar() function, passing over the 'text', 'shift' and 'direction' values.\n",
    "\n",
    "caesar(message = text, shift_amount = shift, cipher_direction = direction)"
   ]
  },
  {
   "cell_type": "markdown",
   "id": "f53459c2",
   "metadata": {},
   "source": [
    "## Ceasar Cipher part 4"
   ]
  },
  {
   "cell_type": "code",
   "execution_count": 78,
   "id": "475c1fa2",
   "metadata": {},
   "outputs": [],
   "source": [
    "logo = \"\"\"           \n",
    " ,adPPYba, ,adPPYYba,  ,adPPYba, ,adPPYba, ,adPPYYba, 8b,dPPYba,  \n",
    "a8\"     \"\" \"\"     `Y8 a8P_____88 I8[    \"\" \"\"     `Y8 88P'   \"Y8  \n",
    "8b         ,adPPPPP88 8PP\"\"\"\"\"\"\"  `\"Y8ba,  ,adPPPPP88 88          \n",
    "\"8a,   ,aa 88,    ,88 \"8b,   ,aa aa    ]8I 88,    ,88 88          \n",
    " `\"Ybbd8\"' `\"8bbdP\"Y8  `\"Ybbd8\"' `\"YbbdP\"' `\"8bbdP\"Y8 88   \n",
    "            88             88                                 \n",
    "           \"\"             88                                 \n",
    "                          88                                 \n",
    " ,adPPYba, 88 8b,dPPYba,  88,dPPYba,   ,adPPYba, 8b,dPPYba,  \n",
    "a8\"     \"\" 88 88P'    \"8a 88P'    \"8a a8P_____88 88P'   \"Y8  \n",
    "8b         88 88       d8 88       88 8PP\"\"\"\"\"\"\" 88          \n",
    "\"8a,   ,aa 88 88b,   ,a8\" 88       88 \"8b,   ,aa 88          \n",
    " `\"Ybbd8\"' 88 88`YbbdP\"'  88       88  `\"Ybbd8\"' 88          \n",
    "              88                                             \n",
    "              88           \n",
    "\"\"\""
   ]
  },
  {
   "cell_type": "code",
   "execution_count": 107,
   "id": "80a2e61e",
   "metadata": {},
   "outputs": [
    {
     "name": "stdout",
     "output_type": "stream",
     "text": [
      "           \n",
      " ,adPPYba, ,adPPYYba,  ,adPPYba, ,adPPYba, ,adPPYYba, 8b,dPPYba,  \n",
      "a8\"     \"\" \"\"     `Y8 a8P_____88 I8[    \"\" \"\"     `Y8 88P'   \"Y8  \n",
      "8b         ,adPPPPP88 8PP\"  `\"Y8ba,  ,adPPPPP88 88          \n",
      "\"8a,   ,aa 88,    ,88 \"8b,   ,aa aa    ]8I 88,    ,88 88          \n",
      " `\"Ybbd8\"' `\"8bbdP\"Y8  `\"Ybbd8\"' `\"YbbdP\"' `\"8bbdP\"Y8 88   \n",
      "            88             88                                 \n",
      "           \"\"             88                                 \n",
      "                          88                                 \n",
      " ,adPPYba, 88 8b,dPPYba,  88,dPPYba,   ,adPPYba, 8b,dPPYba,  \n",
      "a8\"     \"\" 88 88P'    \"8a 88P'    \"8a a8P_____88 88P'   \"Y8  \n",
      "8b         88 88       d8 88       88 8PP\" 88          \n",
      "\"8a,   ,aa 88 88b,   ,a8\" 88       88 \"8b,   ,aa 88          \n",
      " `\"Ybbd8\"' 88 88`YbbdP\"'  88       88  `\"Ybbd8\"' 88          \n",
      "              88                                             \n",
      "              88           \n",
      "\n",
      "Type 'encode' to encrypt, type 'decode' to decrypt:\n",
      "encode\n",
      "Type your message:\n",
      "meet me at the clock at 7am.\n",
      "Type the shift number:\n",
      "99\n",
      "The encoded text is: 'hzzo hz vo ocz xgjxf vo 7vh.'\n",
      "Do you want to go again? type 'yes' or 'no' \n",
      "yes\n",
      "Type 'encode' to encrypt, type 'decode' to decrypt:\n",
      "decode\n",
      "Type your message:\n",
      "hzzo hz vo ocz xgjxf vo 7vh.\n",
      "Type the shift number:\n",
      "99\n",
      "The decoded text is: 'meet me at the clock at 7am.'\n",
      "Do you want to go again? type 'yes' or 'no' \n",
      "no\n",
      "Goodbye!\n"
     ]
    }
   ],
   "source": [
    "alphabet = ['a', 'b', 'c', 'd', 'e', 'f', 'g', 'h', 'i', 'j', 'k', 'l', 'm', \n",
    "            'n', 'o', 'p', 'q', 'r', 's', 't', 'u', 'v', 'w', 'x', 'y', 'z',\n",
    "#             ' ', '1', '2', '3', '4', '5', '6', '7', '8', '9', '0',\n",
    "            'a', 'b', 'c', 'd', 'e', 'f', 'g', 'h', 'i', 'j', 'k', 'l', 'm', \n",
    "            'n', 'o', 'p', 'q', 'r', 's', 't', 'u', 'v', 'w', 'x', 'y', 'z']\n",
    "#            ' ', '1', '2', '3', '4', '5', '6', '7', '8', '9', '0'\n",
    "\n",
    "def caesar(message, shift_amount, cipher_direction):\n",
    "    text = \"\"\n",
    "    if cipher_direction == \"decode\":\n",
    "        shift_amount *= -1\n",
    "    for i in message:\n",
    "        if i in alphabet:\n",
    "            position = alphabet.index(i)\n",
    "            new_position = position + shift_amount\n",
    "            text += alphabet[new_position]\n",
    "        else:\n",
    "            text += i\n",
    "    #TODO-3: What happens if the user enters a number/symbol/space?\n",
    "    #Can you fix the code to keep the number/symbol/space when the text is encoded/decoded?\n",
    "    #e.g. start_text = \"meet me at 3\"\n",
    "    #end_text = \"•••• •• •• 3\"\n",
    "    print(f\"The {cipher_direction}d text is: '{text}'\")\n",
    "\n",
    "#TODO-1: Import and print the logo from art.py when the program starts.\n",
    "\n",
    "print(logo)\n",
    "\n",
    "#TODO-4: Can you figure out a way to ask the user if they want to restart the cipher program?\n",
    "#e.g. Type 'yes' if you want to go again. Otherwise type 'no'.\n",
    "#If they type 'yes' then ask them for the direction/text/shift again and call the caesar() function again?\n",
    "#Hint: Try creating a while loop that continues to execute the program if the user types 'yes'. \n",
    "\n",
    "restart = True\n",
    "while restart == True:\n",
    "    direction = input(\"Type 'encode' to encrypt, type 'decode' to decrypt:\\n\")\n",
    "    text = input(\"Type your message:\\n\").lower()\n",
    "    shift = int(input(\"Type the shift number:\\n\"))\n",
    "    shift %= 26\n",
    "    #TODO-2: What if the user enters a shift that is greater than the number of letters in the alphabet?\n",
    "    #Try running the program and entering a shift number of 45.\n",
    "    #Add some code so that the program continues to work even if the user enters a shift number greater than 26. \n",
    "    #Hint: Think about how you can use the modulus (%).\n",
    "    caesar(message = text, shift_amount = shift, cipher_direction = direction)\n",
    "    \n",
    "    status = input(\"Do you want to go again? type 'yes' or 'no' \\n\").lower()\n",
    "    if status == 'no':\n",
    "        restart = False\n",
    "        print(\"Goodbye!\")"
   ]
  },
  {
   "cell_type": "code",
   "execution_count": null,
   "id": "913eac71",
   "metadata": {},
   "outputs": [],
   "source": []
  }
 ],
 "metadata": {
  "kernelspec": {
   "display_name": "Python 3 (ipykernel)",
   "language": "python",
   "name": "python3"
  },
  "language_info": {
   "codemirror_mode": {
    "name": "ipython",
    "version": 3
   },
   "file_extension": ".py",
   "mimetype": "text/x-python",
   "name": "python",
   "nbconvert_exporter": "python",
   "pygments_lexer": "ipython3",
   "version": "3.11.5"
  }
 },
 "nbformat": 4,
 "nbformat_minor": 5
}
