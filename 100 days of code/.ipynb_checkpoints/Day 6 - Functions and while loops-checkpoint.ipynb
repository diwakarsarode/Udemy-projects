{
 "cells": [
  {
   "cell_type": "markdown",
   "id": "bc6a862d",
   "metadata": {},
   "source": [
    "# Defining a function using Reeborg's World tool\n",
    "\n",
    "# Links: \n",
    "\n",
    "Hurdle 1 - https://reeborg.ca/reeborg.html?lang=en&mode=python&menu=worlds%2Fmenus%2Freeborg_intro_en.json&name=Hurdle%201&url=worlds%2Ftutorial_en%2Fhurdle1.json\n",
    "\n",
    "Hurdle 2 - https://reeborg.ca/reeborg.html?lang=en&mode=python&menu=worlds%2Fmenus%2Freeborg_intro_en.json&name=Hurdle%202&url=worlds%2Ftutorial_en%2Fhurdle2.json\n",
    "\n",
    "Hurdle 3 - https://reeborg.ca/reeborg.html?lang=en&mode=python&menu=worlds%2Fmenus%2Freeborg_intro_en.json&name=Hurdle%203&url=worlds%2Ftutorial_en%2Fhurdle3.json\n",
    "\n",
    "Hurdle 4 - https://reeborg.ca/reeborg.html?lang=en&mode=python&menu=worlds%2Fmenus%2Freeborg_intro_en.json&name=Hurdle 4&url=worlds%2Ftutorial_en%2Fhurdle4.json\n",
    "\n",
    "Maze - https://reeborg.ca/reeborg.html?lang=en&mode=python&menu=worlds%2Fmenus%2Freeborg_intro_en.json&name=Hurdle 4&url=worlds%2Ftutorial_en%2Fhurdle4.json"
   ]
  },
  {
   "cell_type": "markdown",
   "id": "c639d74f",
   "metadata": {},
   "source": [
    "# (Note: To read, change markdown to code)\n",
    "\n",
    "## General"
   ]
  },
  {
   "cell_type": "markdown",
   "id": "1ca9fbf1",
   "metadata": {},
   "source": [
    "def turn_right():\n",
    "    turn_left()\n",
    "    turn_left()\n",
    "    turn_left()\n",
    "    \n",
    "def turn_sq():\n",
    "    turn_left()\n",
    "    move()\n",
    "    turn_right()\n",
    "    move()\n",
    "    turn_right()\n",
    "    move()\n",
    "    turn_right()\n",
    "    move()\n",
    "    \n",
    "def hurdle():\n",
    "    move()\n",
    "    turn_left()\n",
    "    move()\n",
    "    turn_right()\n",
    "    move()\n",
    "    turn_right()\n",
    "    move()\n",
    "    turn_left()\n",
    "\n",
    "def com_hurdle():\n",
    "    hurdle()\n",
    "    hurdle()\n",
    "    hurdle()\n",
    "    hurdle()\n",
    "    hurdle()\n",
    "    hurdle()\n",
    "    \n",
    "def jump():\n",
    "    turn_left()\n",
    "    move()\n",
    "    turn_right()\n",
    "    move()\n",
    "    turn_right()\n",
    "    move()\n",
    "    turn_left()\n",
    "    \n",
    "def wall_jump():\n",
    "    turn_left()\n",
    "    while wall_on_right():\n",
    "        move()\n",
    "    turn_right()\n",
    "    move()\n",
    "    turn_right()\n",
    "    while front_is_clear():\n",
    "        move()\n",
    "    turn_left()"
   ]
  },
  {
   "cell_type": "markdown",
   "id": "d3e5fc8b",
   "metadata": {},
   "source": [
    "## Hurdle 1"
   ]
  },
  {
   "cell_type": "markdown",
   "id": "e6dddb3f",
   "metadata": {},
   "source": [
    "com_hurdle()"
   ]
  },
  {
   "cell_type": "markdown",
   "id": "351ecb53",
   "metadata": {},
   "source": [
    "for step in range(0,6):\n",
    "    hurdle()"
   ]
  },
  {
   "cell_type": "markdown",
   "id": "6efca63a",
   "metadata": {},
   "source": [
    "no_of_hurdles = 6\n",
    "while no_of_hurdles > 0:\n",
    "    hurdle()\n",
    "    no_of_hurdles -= 1\n",
    "    print(no_of_hurdles)"
   ]
  },
  {
   "cell_type": "markdown",
   "id": "0a05f41f",
   "metadata": {},
   "source": [
    "## Hurdle 2"
   ]
  },
  {
   "cell_type": "markdown",
   "id": "0610238c",
   "metadata": {},
   "source": [
    "while at_goal == False:\n",
    "   hurdle()"
   ]
  },
  {
   "cell_type": "markdown",
   "id": "3cc26059",
   "metadata": {},
   "source": [
    "## Hurdle 3"
   ]
  },
  {
   "cell_type": "markdown",
   "id": "b484911d",
   "metadata": {},
   "source": [
    "while at_goal() == False:\n",
    "    if wall_in_front():\n",
    "        jump()\n",
    "    else:\n",
    "        move()"
   ]
  },
  {
   "cell_type": "markdown",
   "id": "199da277",
   "metadata": {},
   "source": [
    "## Hurdle 4"
   ]
  },
  {
   "cell_type": "markdown",
   "id": "0bda0b5d",
   "metadata": {},
   "source": [
    "while at_goal() == False:\n",
    "    if wall_in_front():\n",
    "        wall_jump()\n",
    "    else:\n",
    "        move()"
   ]
  },
  {
   "cell_type": "markdown",
   "id": "e44ecba7",
   "metadata": {},
   "source": [
    "## Maze"
   ]
  },
  {
   "cell_type": "markdown",
   "id": "c7066c0e",
   "metadata": {},
   "source": [
    "while not at_goal():\n",
    "    if right_is_clear() and front_is_clear():\n",
    "        move()\n",
    "    elif right_is_clear():\n",
    "        turn_right()\n",
    "        move()\n",
    "    elif wall_on_right() and wall_in_front():\n",
    "        turn_left()\n",
    "    elif wall_on_right():\n",
    "        move()\n",
    "    elif wall_in_front():\n",
    "        turn_left()"
   ]
  }
 ],
 "metadata": {
  "kernelspec": {
   "display_name": "Python 3 (ipykernel)",
   "language": "python",
   "name": "python3"
  },
  "language_info": {
   "codemirror_mode": {
    "name": "ipython",
    "version": 3
   },
   "file_extension": ".py",
   "mimetype": "text/x-python",
   "name": "python",
   "nbconvert_exporter": "python",
   "pygments_lexer": "ipython3",
   "version": "3.11.5"
  }
 },
 "nbformat": 4,
 "nbformat_minor": 5
}
