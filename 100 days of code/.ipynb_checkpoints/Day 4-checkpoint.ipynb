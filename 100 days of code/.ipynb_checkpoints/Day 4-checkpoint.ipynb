{
 "cells": [
  {
   "cell_type": "markdown",
   "id": "14861e46",
   "metadata": {},
   "source": [
    "# Heads or Tails"
   ]
  },
  {
   "cell_type": "code",
   "execution_count": 8,
   "id": "b5d2c70a",
   "metadata": {},
   "outputs": [
    {
     "name": "stdout",
     "output_type": "stream",
     "text": [
      "Tails\n"
     ]
    }
   ],
   "source": [
    "import random\n",
    "toss = random.randint(0,1)\n",
    "\n",
    "if toss == 1:\n",
    "    print(\"Heads\")\n",
    "else:\n",
    "    print(\"Tails\")"
   ]
  },
  {
   "cell_type": "markdown",
   "id": "87634c84",
   "metadata": {},
   "source": [
    "# Random person to pay the bill"
   ]
  },
  {
   "cell_type": "code",
   "execution_count": 24,
   "id": "4a8bc3d3",
   "metadata": {},
   "outputs": [
    {
     "name": "stdout",
     "output_type": "stream",
     "text": [
      "Vinay is going to buy the meal today!\n"
     ]
    }
   ],
   "source": [
    "names = ['Ramesh', 'Suresh', 'Pavan', 'Amar', 'Vinay']\n",
    "\n",
    "import random\n",
    "\n",
    "no_of_people = len(names)\n",
    "\n",
    "choice = random.randint(0, no_of_people -1)\n",
    "\n",
    "payer = names[choice]\n",
    "\n",
    "print(f\"{payer} is going to buy the meal today!\")"
   ]
  },
  {
   "cell_type": "code",
   "execution_count": 29,
   "id": "fe585ee1",
   "metadata": {},
   "outputs": [
    {
     "name": "stdout",
     "output_type": "stream",
     "text": [
      "Kale\n"
     ]
    }
   ],
   "source": [
    "fruits = [\"Strawberries\", \"Nectarines\", \"Apples\", \"Grapes\", \"Peaches\", \"Cherries\", \"Pears\"]\n",
    "vegetables = [\"Spinach\", \"Kale\", \"Tomatoes\", \"Celery\", \"Potatoes\"]\n",
    "     \n",
    "dirty_dozen = [fruits, vegetables]\n",
    "     \n",
    "print(dirty_dozen[1][1])"
   ]
  },
  {
   "cell_type": "markdown",
   "id": "8d3d7f92",
   "metadata": {},
   "source": [
    "# Treasure Map"
   ]
  },
  {
   "cell_type": "code",
   "execution_count": 35,
   "id": "2a76ada1",
   "metadata": {},
   "outputs": [
    {
     "name": "stdout",
     "output_type": "stream",
     "text": [
      "Hiding your treasure! X marks the spot.\n",
      "a3\n",
      "['⬜️', '️⬜️', '️⬜️']\n",
      "['⬜️', '⬜️', '️⬜️']\n",
      "['X', '⬜️️', '⬜️️']\n"
     ]
    }
   ],
   "source": [
    "line1 = [\"⬜️\",\"️⬜️\",\"️⬜️\"]\n",
    "line2 = [\"⬜️\",\"⬜️\",\"️⬜️\"]\n",
    "line3 = [\"⬜️️\",\"⬜️️\",\"⬜️️\"]\n",
    "map = [line1, line2, line3]\n",
    "print(\"Hiding your treasure! X marks the spot.\")\n",
    "\n",
    "position = input()\n",
    "\n",
    "letter = position[0].lower()\n",
    "abc = ['a', 'b', 'c']\n",
    "letter_index = abc.index(letter)\n",
    "\n",
    "number_index = int(position[1]) -1\n",
    "\n",
    "map[number_index][letter_index] = 'X'\n",
    "\n",
    "print(f\"{line1}\\n{line2}\\n{line3}\")"
   ]
  },
  {
   "cell_type": "markdown",
   "id": "aebb9ef2",
   "metadata": {},
   "source": [
    "# Rock Paper Scissors"
   ]
  },
  {
   "cell_type": "code",
   "execution_count": 63,
   "id": "3cec9734",
   "metadata": {},
   "outputs": [
    {
     "name": "stdout",
     "output_type": "stream",
     "text": [
      "rock, paper or scissors - rock\n"
     ]
    },
    {
     "ename": "TypeError",
     "evalue": "list indices must be integers or slices, not str",
     "output_type": "error",
     "traceback": [
      "\u001b[1;31m---------------------------------------------------------------------------\u001b[0m",
      "\u001b[1;31mTypeError\u001b[0m                                 Traceback (most recent call last)",
      "Cell \u001b[1;32mIn[63], line 35\u001b[0m\n\u001b[0;32m     32\u001b[0m items \u001b[38;5;241m=\u001b[39m [rock, paper, scissors]\n\u001b[0;32m     34\u001b[0m user_choice \u001b[38;5;241m=\u001b[39m \u001b[38;5;28minput\u001b[39m(\u001b[38;5;124m\"\u001b[39m\u001b[38;5;124mrock, paper or scissors - \u001b[39m\u001b[38;5;124m\"\u001b[39m)\u001b[38;5;241m.\u001b[39mlower()\n\u001b[1;32m---> 35\u001b[0m \u001b[38;5;28mprint\u001b[39m(\u001b[43mitems\u001b[49m\u001b[43m[\u001b[49m\u001b[43muser_choice\u001b[49m\u001b[43m]\u001b[49m)\n\u001b[0;32m     37\u001b[0m sys_choice \u001b[38;5;241m=\u001b[39m random\u001b[38;5;241m.\u001b[39mchoice(items)\n\u001b[0;32m     38\u001b[0m \u001b[38;5;28mprint\u001b[39m(\u001b[38;5;124m'\u001b[39m\u001b[38;5;124mComputer chose:\u001b[39m\u001b[38;5;124m'\u001b[39m)\n",
      "\u001b[1;31mTypeError\u001b[0m: list indices must be integers or slices, not str"
     ]
    }
   ],
   "source": [
    "rock = '''\n",
    "    _______\n",
    "---'   ____)\n",
    "      (_____)\n",
    "      (_____)\n",
    "      (____)\n",
    "---.__(___)\n",
    "'''\n",
    "\n",
    "paper = '''\n",
    "    _______\n",
    "---'   ____)____\n",
    "          ______)\n",
    "          _______)\n",
    "         _______)\n",
    "---.__________)\n",
    "'''\n",
    "\n",
    "scissors = '''\n",
    "    _______\n",
    "---'   ____)____\n",
    "          ______)\n",
    "       __________)\n",
    "      (____)\n",
    "---.__(___)\n",
    "'''\n",
    "\n",
    "\n",
    "\n",
    "import random\n",
    "\n",
    "items = [rock, paper, scissors]\n",
    "\n",
    "user_choice = input(\"rock, paper or scissors - \").lower()\n",
    "print(items[user_choice])\n",
    "\n",
    "sys_choice = random.choice(items)\n",
    "print('Computer chose:')\n",
    "print(items[sys_choice])\n",
    "\n",
    "if user_choice == sys_choice:\n",
    "    print(f\"{user_choice}\\n{sys_choice}\\nIt is a draw!\")\n",
    "elif user_choice == 'rock' and sys_choice == 'paper':\n",
    "    print(f\"{user_choice}\\n{sys_choice}\\nComputer wins!\")\n",
    "elif user_choice == 'rock' and sys_choice == 'scissors':\n",
    "    print(f\"{user_choice}\\n{sys_choice}\\nYou Win!\")\n",
    "elif user_choice == 'paper' and sys_choice == 'rock':\n",
    "    print(f\"{user_choice}\\n{sys_choice}\\nYou Win!\")\n",
    "elif user_choice == 'paper' and sys_choice == 'scissors':\n",
    "    print(f\"{user_choice}\\n{sys_choice}\\nComputer Wins!\")\n",
    "elif user_choice == 'scissors' and sys_choice == 'rock':\n",
    "    print(f\"{user_choice}\\n{sys_choice}\\nComputer Wins!\")\n",
    "elif user_choice == 'scissors' and sys_choice == 'paper':\n",
    "    print(f\"{user_choice}\\n{sys_choice}\\nYou Win!\")"
   ]
  },
  {
   "cell_type": "code",
   "execution_count": 69,
   "id": "c52b9fb5",
   "metadata": {},
   "outputs": [
    {
     "name": "stdout",
     "output_type": "stream",
     "text": [
      "What do you choose? Type '0' for Rock, '1' for paper or '2' for scissors.\n",
      "5\n",
      "You typed an invalid number, you lose!\n"
     ]
    }
   ],
   "source": [
    "rock = '''\n",
    "    _______\n",
    "---'   ____)\n",
    "      (_____)\n",
    "      (_____)\n",
    "      (____)\n",
    "---.__(___)\n",
    "'''\n",
    "\n",
    "paper = '''\n",
    "    _______\n",
    "---'   ____)____\n",
    "          ______)\n",
    "          _______)\n",
    "         _______)\n",
    "---.__________)\n",
    "'''\n",
    "\n",
    "scissors = '''\n",
    "    _______\n",
    "---'   ____)____\n",
    "          ______)\n",
    "       __________)\n",
    "      (____)\n",
    "---.__(___)\n",
    "'''\n",
    "\n",
    "\n",
    "import random\n",
    "\n",
    "items = [rock, paper, scissors]\n",
    "\n",
    "user_choice = int(input(\"What do you choose? Type '0' for Rock, '1' for paper or '2' for scissors.\\n\"))\n",
    "if user_choice >= 3 or user_choice < 0: \n",
    "    print(\"You typed an invalid number, you lose!\") \n",
    "else:\n",
    "    print(items[user_choice])\n",
    "\n",
    "    sys_choice = random.randint(0, 2)\n",
    "    print(\"Computer chose:\")\n",
    "    print(items[sys_choice])\n",
    "\n",
    "    if user_choice == 0 and sys_choice == 2:\n",
    "        print(\"You win!\")\n",
    "    elif sys_choice == 0 and user_choice == 2:\n",
    "        print(\"You lose\")\n",
    "    elif sys_choice > user_choice:\n",
    "        print(\"You lose\")\n",
    "    elif user_choice > sys_choice:\n",
    "        print(\"You win!\")\n",
    "    elif sys_choice == user_choice:\n",
    "        print(\"It's a draw\")"
   ]
  },
  {
   "cell_type": "code",
   "execution_count": null,
   "id": "b4cff6d3",
   "metadata": {},
   "outputs": [],
   "source": []
  }
 ],
 "metadata": {
  "kernelspec": {
   "display_name": "Python 3 (ipykernel)",
   "language": "python",
   "name": "python3"
  },
  "language_info": {
   "codemirror_mode": {
    "name": "ipython",
    "version": 3
   },
   "file_extension": ".py",
   "mimetype": "text/x-python",
   "name": "python",
   "nbconvert_exporter": "python",
   "pygments_lexer": "ipython3",
   "version": "3.11.5"
  }
 },
 "nbformat": 4,
 "nbformat_minor": 5
}
