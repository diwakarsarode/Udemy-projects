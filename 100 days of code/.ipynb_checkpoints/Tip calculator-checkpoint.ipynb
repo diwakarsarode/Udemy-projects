{
 "cells": [
  {
   "cell_type": "code",
   "execution_count": 1,
   "id": "90363f28",
   "metadata": {},
   "outputs": [
    {
     "name": "stdout",
     "output_type": "stream",
     "text": [
      "Welcome to the tip calculator.\n",
      "What is the bill amount? Rs. 1652\n",
      "What percentage of tip would you like to give? 10, 12 or 15? 10\n",
      "How many people should the bill be split into? 2\n",
      "Each person has to pay Rs.908.60\n"
     ]
    }
   ],
   "source": [
    "print(\"Welcome to the tip calculator.\")\n",
    "bill_amount = float(input(\"What is the bill amount? Rs. \"))\n",
    "tip = int(input(\"What percentage of tip would you like to give? 10, 12 or 15? \"))\n",
    "no_of_people = int(input(\"How many people should the bill be split into? \"))\n",
    "\n",
    "share = ((bill_amount * (tip / 100)) + bill_amount) / no_of_people\n",
    "rounded_share = round(share, 2)\n",
    "rounded_share = \"{:.2f}\".format(rounded_share)\n",
    "\n",
    "print(f\"Each person has to pay Rs.{rounded_share}\")"
   ]
  },
  {
   "cell_type": "code",
   "execution_count": null,
   "id": "a41b70dd",
   "metadata": {},
   "outputs": [],
   "source": []
  }
 ],
 "metadata": {
  "kernelspec": {
   "display_name": "Python 3 (ipykernel)",
   "language": "python",
   "name": "python3"
  },
  "language_info": {
   "codemirror_mode": {
    "name": "ipython",
    "version": 3
   },
   "file_extension": ".py",
   "mimetype": "text/x-python",
   "name": "python",
   "nbconvert_exporter": "python",
   "pygments_lexer": "ipython3",
   "version": "3.11.5"
  }
 },
 "nbformat": 4,
 "nbformat_minor": 5
}
