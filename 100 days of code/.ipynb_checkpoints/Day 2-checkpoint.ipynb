{
 "cells": [
  {
   "cell_type": "code",
   "execution_count": 1,
   "id": "0ff41b13",
   "metadata": {},
   "outputs": [
    {
     "name": "stdout",
     "output_type": "stream",
     "text": [
      "12\n",
      "3\n"
     ]
    }
   ],
   "source": [
    "two_digit_number = input()\n",
    "\n",
    "first_digit = int(two_digit_number[0])\n",
    "second_digit = int(two_digit_number[1])\n",
    "\n",
    "# Add the two integers together\n",
    "two_digit_number = first_digit + second_digit\n",
    "\n",
    "print(two_digit_number)"
   ]
  },
  {
   "cell_type": "code",
   "execution_count": 7,
   "id": "9553b1c8",
   "metadata": {},
   "outputs": [
    {
     "name": "stdout",
     "output_type": "stream",
     "text": [
      "168\n",
      "70\n",
      "0\n"
     ]
    }
   ],
   "source": [
    "height = input()\n",
    "weight = input()\n",
    "\n",
    "weight_as_int = int(weight)\n",
    "height_as_float = float(height)\n",
    "# Using the exponent operator **\n",
    "# bmi = weight_as_int / height_as_float ** 2\n",
    "# or using multiplication and PEMDAS\n",
    "bmi = weight_as_int / (height_as_float * height_as_float)\n",
    "\n",
    "bmi_as_int = int(bmi)\n",
    "print(bmi_as_int)"
   ]
  },
  {
   "cell_type": "code",
   "execution_count": 9,
   "id": "0389ecd8",
   "metadata": {},
   "outputs": [
    {
     "name": "stdout",
     "output_type": "stream",
     "text": [
      "28\n",
      "You have 3744 weeks left.\n"
     ]
    }
   ],
   "source": [
    "age = input()\n",
    "# Your code below this line 👇\n",
    "years = 100 - int(age)\n",
    "weeks = years * 52\n",
    "\n",
    "print(f\"You have {weeks} weeks left.\")"
   ]
  },
  {
   "cell_type": "code",
   "execution_count": null,
   "id": "8a9012ea",
   "metadata": {},
   "outputs": [],
   "source": []
  },
  {
   "cell_type": "code",
   "execution_count": 1,
   "id": "90363f28",
   "metadata": {},
   "outputs": [
    {
     "name": "stdout",
     "output_type": "stream",
     "text": [
      "Welcome to the tip calculator.\n",
      "What is the bill amount? Rs. 1652\n",
      "What percentage of tip would you like to give? 10, 12 or 15? 10\n",
      "How many people should the bill be split into? 2\n",
      "Each person has to pay Rs.908.60\n"
     ]
    }
   ],
   "source": [
    "print(\"Welcome to the tip calculator.\")\n",
    "bill_amount = float(input(\"What is the bill amount? Rs. \"))\n",
    "tip = int(input(\"What percentage of tip would you like to give? 10, 12 or 15? \"))\n",
    "no_of_people = int(input(\"How many people should the bill be split into? \"))\n",
    "\n",
    "share = ((bill_amount * (tip / 100)) + bill_amount) / no_of_people\n",
    "rounded_share = round(share, 2)\n",
    "rounded_share = \"{:.2f}\".format(rounded_share)\n",
    "\n",
    "print(f\"Each person has to pay Rs.{rounded_share}\")"
   ]
  },
  {
   "cell_type": "code",
   "execution_count": null,
   "id": "a41b70dd",
   "metadata": {},
   "outputs": [],
   "source": []
  }
 ],
 "metadata": {
  "kernelspec": {
   "display_name": "Python 3 (ipykernel)",
   "language": "python",
   "name": "python3"
  },
  "language_info": {
   "codemirror_mode": {
    "name": "ipython",
    "version": 3
   },
   "file_extension": ".py",
   "mimetype": "text/x-python",
   "name": "python",
   "nbconvert_exporter": "python",
   "pygments_lexer": "ipython3",
   "version": "3.11.5"
  }
 },
 "nbformat": 4,
 "nbformat_minor": 5
}
