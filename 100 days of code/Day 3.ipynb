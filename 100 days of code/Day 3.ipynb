{
 "cells": [
  {
   "cell_type": "markdown",
   "id": "2d8075ff",
   "metadata": {},
   "source": [
    "# Odd or even"
   ]
  },
  {
   "cell_type": "code",
   "execution_count": 1,
   "id": "ae87687e",
   "metadata": {},
   "outputs": [
    {
     "name": "stdout",
     "output_type": "stream",
     "text": [
      "20\n",
      "This is an even number.\n"
     ]
    }
   ],
   "source": [
    "# Which number do you want to check?\n",
    "number = int(input())\n",
    "if number % 2 == 0:\n",
    "  print(\"This is an even number.\")\n",
    "else:\n",
    "  print(\"This is an odd number.\")"
   ]
  },
  {
   "cell_type": "markdown",
   "id": "080a272d",
   "metadata": {},
   "source": [
    "# Ticket for roller coaster"
   ]
  },
  {
   "cell_type": "code",
   "execution_count": 24,
   "id": "7c8ccbfc",
   "metadata": {},
   "outputs": [
    {
     "name": "stdout",
     "output_type": "stream",
     "text": [
      "Welcome to the rollercoaster!\n",
      "What is your height in cm? 170\n",
      "You can ride the rollercoaster!\n",
      "What is your age? 50\n",
      "Don't wory about your mid-life crisis, have a free ride on us\n",
      "Do you want a photo? Y or N. Y\n",
      "Your final bill is $3\n"
     ]
    }
   ],
   "source": [
    "print(\"Welcome to the rollercoaster!\")\n",
    "height = int(input(\"What is your height in cm? \"))\n",
    "bill = 0\n",
    "\n",
    "if height >= 120:\n",
    "    print(\"You can ride the rollercoaster!\")\n",
    "    age = int(input(\"What is your age? \"))\n",
    "    if age <= 12:\n",
    "        bill = 5\n",
    "        print(\"Child tickets are $5.\")\n",
    "    elif age <= 18:\n",
    "        bill = 7\n",
    "        print(\"Youth tickets are $7.\")\n",
    "    elif age >= 45 and age <= 55: #midlife crisis\n",
    "        print(\"Don't wory about your mid-life crisis, have a free ride on us\")\n",
    "#         bill = 0\n",
    "    else:\n",
    "        bill = 12\n",
    "        print(\"Adult tickets are $12.\")\n",
    "    \n",
    "    wants_photo = input(\"Do you want a photo? Y or N. \")\n",
    "    if wants_photo == \"Y\":\n",
    "        bill += 3\n",
    "    print(f\"Your final bill is ${bill}\")\n",
    "    \n",
    "else:\n",
    "    print(\"You can't ride the rollercoaster!\")"
   ]
  },
  {
   "cell_type": "markdown",
   "id": "415c1fce",
   "metadata": {},
   "source": [
    "# BMI calculator"
   ]
  },
  {
   "cell_type": "code",
   "execution_count": 5,
   "id": "640c79e1",
   "metadata": {},
   "outputs": [
    {
     "name": "stdout",
     "output_type": "stream",
     "text": [
      "Enter your hight in meters 1.68\n",
      "Enter your weight in Kgs 75\n",
      "Your BMI is 26.573129251700685, you are slightly overweight.\n"
     ]
    }
   ],
   "source": [
    "# Enter your height in meters e.g., 1.55\n",
    "height = float(input(\"Enter your hight in meters \"))\n",
    "# Enter your weight in kilograms e.g., 72\n",
    "weight = int(input(\"Enter your weight in Kgs \"))\n",
    "\n",
    "bmi = weight / (height * height)\n",
    "\n",
    "if bmi < 18.5:\n",
    "  print(f\"Your BMI is {bmi}, you are underweight.\")\n",
    "elif bmi < 25:\n",
    "  print(f\"Your BMI is {bmi}, you have a normal weight.\")\n",
    "elif bmi < 30:\n",
    "  print(f\"Your BMI is {bmi}, you are slightly overweight.\")\n",
    "elif bmi < 35:\n",
    "  print(f\"Your BMI is {bmi}, you are obese.\")\n",
    "else:\n",
    "  print(f\"Your BMI is {bmi}, you are clinically obese.\")"
   ]
  },
  {
   "cell_type": "markdown",
   "id": "b7d5757d",
   "metadata": {},
   "source": [
    "# Leap year"
   ]
  },
  {
   "cell_type": "code",
   "execution_count": 13,
   "id": "849cf37b",
   "metadata": {},
   "outputs": [
    {
     "name": "stdout",
     "output_type": "stream",
     "text": [
      "2018\n",
      "Not leap year\n"
     ]
    }
   ],
   "source": [
    "# Which year do you want to check?\n",
    "year = int(input())\n",
    "# 🚨 Don't change the code above 👆\n",
    "\n",
    "# Write your code below this line 👇\n",
    "if year % 4 == 0:\n",
    "    if year % 100 == 0:\n",
    "        if year % 400 == 0:\n",
    "            print(\"Leap year\")\n",
    "        else:\n",
    "            print(\"Not leap year\")\n",
    "    else:\n",
    "        print(\"Leap year\")\n",
    "else:\n",
    "    print(\"Not leap year\")"
   ]
  },
  {
   "cell_type": "markdown",
   "id": "5418f46f",
   "metadata": {},
   "source": [
    "# Pizza order"
   ]
  },
  {
   "cell_type": "code",
   "execution_count": 21,
   "id": "268eac43",
   "metadata": {},
   "outputs": [
    {
     "name": "stdout",
     "output_type": "stream",
     "text": [
      "Thank you for choosing Python Pizza Deliveries!\n",
      "What size pizza do you want? S, M, or L L\n",
      "Do you want pepperoni? Y or N N\n",
      "Do you want extra cheese? Y or N Y\n",
      "Thank you for choosing Python Pizza Deliveries!\n",
      "Your final bill is: $26.\n"
     ]
    }
   ],
   "source": [
    "print(\"Thank you for choosing Python Pizza Deliveries!\")\n",
    "size = input(\"What size pizza do you want? S, M, or L \")\n",
    "add_pepperoni = input(\"Do you want pepperoni? Y or N \")\n",
    "extra_cheese = input(\"Do you want extra cheese? Y or N \")\n",
    "# 🚨 Don't change the code above 👆\n",
    "# Write your code below this line 👇\n",
    "# ask size\n",
    "bill = 0\n",
    "if size == \"S\":\n",
    "    bill = 15\n",
    "    if add_pepperoni == \"Y\":\n",
    "        bill += 2\n",
    "elif size == \"M\":\n",
    "    bill = 20\n",
    "    if add_pepperoni == \"Y\":\n",
    "        bill += 3\n",
    "else:\n",
    "    size == \"L\"\n",
    "    bill = 25\n",
    "    if add_pepperoni == \"Y\":\n",
    "        bill += 3\n",
    "\n",
    "if extra_cheese == \"Y\":\n",
    "    bill += 1\n",
    "\n",
    "print(\"Thank you for choosing Python Pizza Deliveries!\")\n",
    "print(f\"Your final bill is: ${bill}.\")"
   ]
  },
  {
   "cell_type": "markdown",
   "id": "cc35141e",
   "metadata": {},
   "source": [
    "# Love calculator"
   ]
  },
  {
   "cell_type": "code",
   "execution_count": 121,
   "id": "ae22326e",
   "metadata": {},
   "outputs": [
    {
     "name": "stdout",
     "output_type": "stream",
     "text": [
      "The Love Calculator is calculating your score...\n",
      "What is your name? Diwakar\n",
      "What is their name? manchester united\n",
      "Your score is 83.\n"
     ]
    }
   ],
   "source": [
    "print(\"The Love Calculator is calculating your score...\")\n",
    "name1 = input(\"What is your name? \")\n",
    "name2 = input(\"What is their name? \")\n",
    "combined_names = name1 + name2\n",
    "lower_names = combined_names.lower()\n",
    "\n",
    "t = lower_names.count(\"t\")\n",
    "r = lower_names.count(\"r\")\n",
    "u = lower_names.count(\"u\")\n",
    "e = lower_names.count(\"e\")\n",
    "l = lower_names.count(\"l\")\n",
    "o = lower_names.count(\"o\")\n",
    "v = lower_names.count(\"v\")\n",
    "# e = lower_names.count(\"e\")\n",
    "\n",
    "first_digit = t + r + u + e\n",
    "second_digit = l + o + v + e\n",
    "score = int(str(first_digit) + str(second_digit))\n",
    "\n",
    "if score < 10 or score > 90:\n",
    "  print(f\"Your score is {score}, you go together like coke and mentos.\")\n",
    "elif score >= 40 and score <= 50:\n",
    "  print(f\"Your score is {score}, you are alright together.\")\n",
    "else:\n",
    "  print(f\"Your score is {score}.\")"
   ]
  },
  {
   "cell_type": "markdown",
   "id": "be4a4e10",
   "metadata": {},
   "source": [
    "# Treasure island"
   ]
  },
  {
   "cell_type": "code",
   "execution_count": 122,
   "id": "b8928a74",
   "metadata": {},
   "outputs": [
    {
     "name": "stdout",
     "output_type": "stream",
     "text": [
      "\n",
      "*******************************************************************************\n",
      "          |                   |                  |                     |\n",
      " _________|________________.=\"\"_;=.______________|_____________________|_______\n",
      "|                   |  ,-\"_,=\"\"     `\"=.|                  |\n",
      "|___________________|__\"=._o`\"-._        `\"=.______________|___________________\n",
      "          |                `\"=._o`\"=._      _`\"=._                     |\n",
      " _________|_____________________:=._o \"=._.\"_.-=\"'\"=.__________________|_______\n",
      "|                   |    __.--\" , ; `\"=._o.\" ,-\"\"\"-._ \".   |\n",
      "|___________________|_._\"  ,. .` ` `` ,  `\"-._\"-._   \". '__|___________________\n",
      "          |           |o`\"=._` , \"` `; .\". ,  \"-._\"-._; ;              |\n",
      " _________|___________| ;`-.o`\"=._; .\" ` '`.\"\\` . \"-._ /_______________|_______\n",
      "|                   | |o;    `\"-.o`\"=._``  '` \" ,__.--o;   |\n",
      "|___________________|_| ;     (#) `-.o `\"=.`_.--\"_o.-; ;___|___________________\n",
      "____/______/______/___|o;._    \"      `\".o|o_.--\"    ;o;____/______/______/____\n",
      "/______/______/______/_\"=._o--._        ; | ;        ; ;/______/______/______/_\n",
      "____/______/______/______/__\"=._o--._   ;o|o;     _._;o;____/______/______/____\n",
      "/______/______/______/______/____\"=._o._; | ;_.--\"o.--\"_/______/______/______/_\n",
      "____/______/______/______/______/_____\"=.o|o_.--\"\"___/______/______/______/____\n",
      "/______/______/______/______/______/______/______/______/______/______/_____ /\n",
      "*******************************************************************************\n",
      "\n",
      "Welcome to Treasure Island.\n",
      "Your mission is to find the treasure.\n",
      "You are at a crossroads. To the left is a dark forest, to the right is a beautiful beach.\n",
      "Which direction do you want to go? Type 'left' or 'right'.\n",
      "left\n",
      "You walk into the dark forest and come across a river. You can either swim across or wait for a boat.\n",
      "Do you want to swim or wait? Type 'swim' or 'wait'.\n",
      "wait\n",
      "You wait for a boat and cross the river safely. You come across a castle with three doors. One is red, one is yellow, and one is blue.\n",
      "Which door do you want to open? Type 'red', 'yellow', or 'blue'yellow\n",
      "You open the yellow door and find the treeasure. You win!\n"
     ]
    }
   ],
   "source": [
    "print('''\n",
    "*******************************************************************************\n",
    "          |                   |                  |                     |\n",
    " _________|________________.=\"\"_;=.______________|_____________________|_______\n",
    "|                   |  ,-\"_,=\"\"     `\"=.|                  |\n",
    "|___________________|__\"=._o`\"-._        `\"=.______________|___________________\n",
    "          |                `\"=._o`\"=._      _`\"=._                     |\n",
    " _________|_____________________:=._o \"=._.\"_.-=\"'\"=.__________________|_______\n",
    "|                   |    __.--\" , ; `\"=._o.\" ,-\"\"\"-._ \".   |\n",
    "|___________________|_._\"  ,. .` ` `` ,  `\"-._\"-._   \". '__|___________________\n",
    "          |           |o`\"=._` , \"` `; .\". ,  \"-._\"-._; ;              |\n",
    " _________|___________| ;`-.o`\"=._; .\" ` '`.\"\\` . \"-._ /_______________|_______\n",
    "|                   | |o;    `\"-.o`\"=._``  '` \" ,__.--o;   |\n",
    "|___________________|_| ;     (#) `-.o `\"=.`_.--\"_o.-; ;___|___________________\n",
    "____/______/______/___|o;._    \"      `\".o|o_.--\"    ;o;____/______/______/____\n",
    "/______/______/______/_\"=._o--._        ; | ;        ; ;/______/______/______/_\n",
    "____/______/______/______/__\"=._o--._   ;o|o;     _._;o;____/______/______/____\n",
    "/______/______/______/______/____\"=._o._; | ;_.--\"o.--\"_/______/______/______/_\n",
    "____/______/______/______/______/_____\"=.o|o_.--\"\"___/______/______/______/____\n",
    "/______/______/______/______/______/______/______/______/______/______/_____ /\n",
    "*******************************************************************************\n",
    "''')\n",
    "print(\"Welcome to Treasure Island.\")\n",
    "print(\"Your mission is to find the treasure.\") \n",
    "\n",
    "#https://www.draw.io/?lightbox=1&highlight=0000ff&edit=_blank&layers=1&nav=1&title=Treasure%20Island%20Conditional.drawio#Uhttps%3A%2F%2Fdrive.google.com%2Fuc%3Fid%3D1oDe4ehjWZipYRsVfeAx2HyB7LCQ8_Fvi%26export%3Ddownload\n",
    "\n",
    "#Write your code below this line 👇\n",
    "print(\"You are at a crossroads. To the left is a dark forest, to the right is a beautiful beach.\")\n",
    "direction = input(\"Which direction do you want to go? Type 'left' or 'right'.\\n\")\n",
    "if direction.lower() == \"right\":\n",
    "    print(\"You walk into the dark forest and are attacked by a bear. Game over.\")\n",
    "elif direction.lower() == \"left\":\n",
    "    print(\"You walk into the dark forest and come across a river. You can either swim across or wait for a boat.\")\n",
    "    river = input(\"Do you want to swim or wait? Type 'swim' or 'wait'.\\n\")\n",
    "    if river.lower() == \"swim\":\n",
    "        print(\"You swim across the river and are attacked by a trout. Game over\")\n",
    "    elif river.lower() == \"wait\":\n",
    "        print(\"You wait for a boat and cross the river safely. You come across a castle with three doors. One is red, one is yellow, and one is blue.\")\n",
    "        door = input(\"Which door do you want to open? Type 'red', 'yellow', or 'blue'\")\n",
    "        if door.lower() == \"red\":\n",
    "            print(\"You open the red door and are burned by fire. Game over.\")\n",
    "        elif door.lower() == \"yellow\":\n",
    "            print(\"You open the yellow door and find the treeasure. You win!\")\n",
    "        elif door.lower() == \"blue\":\n",
    "            print(\"You open the blue door and are eaten by beasts. Game over.\")\n",
    "        else:\n",
    "            print(\"You chose a door that doesn't exist. Game over.\")\n",
    "    else:\n",
    "        print(\"You chose an option that doesn't exist. Game over.\")\n",
    "else:\n",
    "    print(\"You chose a direction that doesn't exist. Game over.\")"
   ]
  },
  {
   "cell_type": "code",
   "execution_count": null,
   "id": "68d2046d",
   "metadata": {},
   "outputs": [],
   "source": []
  }
 ],
 "metadata": {
  "kernelspec": {
   "display_name": "Python 3 (ipykernel)",
   "language": "python",
   "name": "python3"
  },
  "language_info": {
   "codemirror_mode": {
    "name": "ipython",
    "version": 3
   },
   "file_extension": ".py",
   "mimetype": "text/x-python",
   "name": "python",
   "nbconvert_exporter": "python",
   "pygments_lexer": "ipython3",
   "version": "3.11.5"
  }
 },
 "nbformat": 4,
 "nbformat_minor": 5
}
