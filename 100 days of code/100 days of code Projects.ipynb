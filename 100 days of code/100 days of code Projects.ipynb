{
 "cells": [
  {
   "cell_type": "markdown",
   "id": "320a4aa2",
   "metadata": {},
   "source": [
    "# Band name generator"
   ]
  },
  {
   "cell_type": "code",
   "execution_count": 18,
   "id": "4cdfdc2f",
   "metadata": {},
   "outputs": [
    {
     "name": "stdout",
     "output_type": "stream",
     "text": [
      "Welcome to band name generator\n",
      "Which city did you grow up in?\n",
      "Bengaluru\n",
      "What is the name of your pet?\n",
      "Rooney\n",
      "Your band name could be 'Bengaluru Rooney'\n"
     ]
    }
   ],
   "source": [
    "#1. Create a greeting for your program.\n",
    "print(\"Welcome to band name generator\")\n",
    "#2. Ask the user for the city that they grew up in.\n",
    "city = input(\"Which city did you grow up in?\\n\")\n",
    "#3. Ask the user for the name of a pet.\n",
    "pet_name = input(\"What is the name of your pet?\\n\")\n",
    "#4. Combine the name of their city and pet and show them their band name.\n",
    "band_name = city + \" \" + pet_name\n",
    "#5. Make sure the input cursor shows on a new line:\n",
    "print(\"Your band name could be \" + \"'\" + band_name + \"'\")\n",
    "# Solution: https://replit.com/@appbrewery/band-name-generator-end"
   ]
  },
  {
   "cell_type": "markdown",
   "id": "29c3db73",
   "metadata": {},
   "source": [
    "# Tip calculator"
   ]
  },
  {
   "cell_type": "code",
   "execution_count": 17,
   "id": "6a596198",
   "metadata": {},
   "outputs": [
    {
     "name": "stdout",
     "output_type": "stream",
     "text": [
      "Welcome to the tip calculator.\n",
      "What is the bill amount? Rs. 150\n",
      "What percentage of tip would you like to give? 10, 12 or 15? 12\n",
      "How many people should the bill be split into? 5\n",
      "Each person has to pay Rs.33.60\n"
     ]
    }
   ],
   "source": [
    "print(\"Welcome to the tip calculator.\")\n",
    "bill_amount = float(input(\"What is the bill amount? Rs. \"))\n",
    "tip = int(input(\"What percentage of tip would you like to give? 10, 12 or 15? \"))\n",
    "no_of_people = int(input(\"How many people should the bill be split into? \"))\n",
    "\n",
    "share = ((bill_amount * (tip / 100)) + bill_amount) / no_of_people\n",
    "rounded_share = round(share, 2)\n",
    "rounded_share = \"{:.2f}\".format(rounded_share)\n",
    "\n",
    "print(f\"Each person has to pay Rs.{rounded_share}\")"
   ]
  },
  {
   "cell_type": "code",
   "execution_count": null,
   "id": "ee458e5c",
   "metadata": {},
   "outputs": [],
   "source": []
  }
 ],
 "metadata": {
  "kernelspec": {
   "display_name": "Python 3 (ipykernel)",
   "language": "python",
   "name": "python3"
  },
  "language_info": {
   "codemirror_mode": {
    "name": "ipython",
    "version": 3
   },
   "file_extension": ".py",
   "mimetype": "text/x-python",
   "name": "python",
   "nbconvert_exporter": "python",
   "pygments_lexer": "ipython3",
   "version": "3.11.5"
  }
 },
 "nbformat": 4,
 "nbformat_minor": 5
}
