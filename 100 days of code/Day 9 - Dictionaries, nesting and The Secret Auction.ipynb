{
 "cells": [
  {
   "cell_type": "markdown",
   "id": "65670ec2",
   "metadata": {},
   "source": [
    "## LESSON 22 DAY 9 - GRADING PROGRAM"
   ]
  },
  {
   "cell_type": "markdown",
   "id": "bb804874",
   "metadata": {},
   "source": [
    "### Instructions\n",
    "\n",
    "You have access to a database of student_scores in the format of a dictionary. The keys in student_scores are the names of the students and the values are their exam scores.\n",
    "\n",
    "Write a program that converts their scores to grades. By the end of your program, you should have a new dictionary called student_grades that should contain student names for keys and their grades for values.\n",
    "\n",
    "The final version of the student_grades dictionary will be checked.\n",
    "\n",
    "DO NOT modify lines 1-7 to change the existing student_scores dictionary.\n",
    "\n",
    "DO NOT write any print statements.\n",
    "\n",
    "This is the scoring criteria:\n",
    "\n",
    "    Scores 91 - 100: Grade = \"Outstanding\"\n",
    "\n",
    "    Scores 81 - 90: Grade = \"Exceeds Expectations\"\n",
    "\n",
    "    Scores 71 - 80: Grade = \"Acceptable\"\n",
    "\n",
    "    Scores 70 or lower: Grade = \"Fail\"\n",
    "\n",
    "Expected Output\n",
    "\n",
    "'{'Harry': 'Exceeds Expectations', 'Ron': 'Acceptable', 'Hermione': 'Outstanding', 'Draco': 'Acceptable', 'Neville': 'Fail'}'\n",
    "\n",
    "Hint\n",
    "\n",
    "    Remember that looping through a Dictionary will only give you the keys and not the values.\n",
    "\n",
    "    If in doubt as to why your code is not doing what you expected, you can always print out the intermediate values.\n",
    "\n",
    "    At the end of your program, the print statement will show the final student_scores dictionary, do not change this.\n",
    "\n"
   ]
  },
  {
   "cell_type": "code",
   "execution_count": 6,
   "id": "28a5bc3a",
   "metadata": {},
   "outputs": [
    {
     "name": "stdout",
     "output_type": "stream",
     "text": [
      "{'Harry': 'Exceeds Expectations', 'Ron': 'Acceptable', 'Hermione': 'Outstanding', 'Draco': 'Acceptable', 'Neville': 'Fail'}\n"
     ]
    }
   ],
   "source": [
    "student_scores = {\n",
    "  \"Harry\": 81,\n",
    "  \"Ron\": 78,\n",
    "  \"Hermione\": 99, \n",
    "  \"Draco\": 74,\n",
    "  \"Neville\": 62,\n",
    "}\n",
    "# 🚨 Don't change the code above 👆\n",
    "# TODO-1: Create an empty dictionary called student_grades.\n",
    "student_grades = {}\n",
    "\n",
    "# TODO-2: Write your code below to add the grades to student_grades.👇\n",
    "for student in student_scores:\n",
    "    score = student_scores[student]\n",
    "    if score > 90:\n",
    "        student_grades[student] = \"Outstanding\"\n",
    "    elif score > 80:\n",
    "        student_grades[student] = \"Exceeds Expectations\"\n",
    "    elif score > 70:\n",
    "        student_grades[student] = \"Acceptable\"\n",
    "    else:\n",
    "        student_grades[student] = \"Fail\"\n",
    "\n",
    "# 🚨 Don't change the code below 👇\n",
    "print(student_grades)"
   ]
  },
  {
   "cell_type": "code",
   "execution_count": 17,
   "id": "488ed3c8",
   "metadata": {},
   "outputs": [],
   "source": [
    "travel_log = [\n",
    "{\n",
    "    \"country_visited\": \"France\", \n",
    "    \"cities_visited\": [\"Paris\", \"Lille\", \"Dijon\"], \n",
    "    \"total_visits\": 12\n",
    "},\n",
    "{\n",
    "    \"country_visited\": \"Germany\", \n",
    "    \"cities_visited\": [\"Berlin\", \"Hamburg\", \"Stuttgart\"], \n",
    "    \"total_visits\": 10\n",
    "},\n",
    "]"
   ]
  },
  {
   "cell_type": "markdown",
   "id": "83b7b418",
   "metadata": {},
   "source": [
    "### LESSON 23 DAY 9 - DICTIONARY IN LIST"
   ]
  },
  {
   "cell_type": "markdown",
   "id": "6db2a394",
   "metadata": {},
   "source": [
    "Instructions\n",
    "\n",
    "You are going to write a program that adds to a travel_log. You can see a travel_log which is a List that contains 2 Dictionaries. Your job is to create a function that can add new countries to this list.\n",
    "\n",
    "Write a function that will work with the following line of code on line 21 to add the entry for Brazil to the travel_log.\n",
    "\n",
    "add_new_country(\"Brazil\", 5, [\"Sao Paulo\", \"Rio de Janeiro\"])\n",
    "\n",
    "DO NOT modify the travel_log directly. The goal is to create a function that modifies it.\n",
    "Example Input\n",
    "\n",
    "Brazil\n",
    "5\n",
    "[\"Sao Paulo\", \"Rio de Janeiro\"]\n",
    "\n",
    "Example Output\n",
    "\n",
    "I've been to Brazil 5 times.\n",
    "My favourite city was Sao Paulo.\n",
    "\n",
    "Hint\n",
    "\n",
    "    Look at the function call above to see what the name of the function should be.\n",
    "\n",
    "    The inputs for the function are positional arguments. The order is very important.\n",
    "\n",
    "    Feel free to choose your own parameter names.\n",
    "\n"
   ]
  },
  {
   "cell_type": "code",
   "execution_count": 53,
   "id": "b43536d5",
   "metadata": {},
   "outputs": [
    {
     "name": "stdout",
     "output_type": "stream",
     "text": [
      "India\n",
      "108\n",
      "[\"Bengaluru\", \"Mumbai\"]\n",
      "I've been to India 108 times.\n",
      "My favourite city was Bengaluru.\n",
      "[{'country': 'France', 'visits': 12, 'cities': ['Paris', 'Lille', 'Dijon']}, {'country': 'Germany', 'visits': 5, 'cities': ['Berlin', 'Hamburg', 'Stuttgart']}, {'country': 'India', 'visits': 108, 'cities': ['Bengaluru', 'Mumbai']}]\n"
     ]
    }
   ],
   "source": [
    "country = input() # Add country name\n",
    "visits = int(input()) # Number of visits\n",
    "list_of_cities = eval(input()) # create list from formatted string\n",
    "\n",
    "travel_log = [\n",
    "  {\n",
    "    \"country\": \"France\",\n",
    "    \"visits\": 12,\n",
    "    \"cities\": [\"Paris\", \"Lille\", \"Dijon\"]\n",
    "  },\n",
    "  {\n",
    "    \"country\": \"Germany\",\n",
    "    \"visits\": 5,\n",
    "    \"cities\": [\"Berlin\", \"Hamburg\", \"Stuttgart\"]\n",
    "  },\n",
    "]\n",
    "# Do NOT change the code above 👆\n",
    "\n",
    "# TODO: Write the function that will allow new countries\n",
    "# to be added to the travel_log. \n",
    "\n",
    "def add_new_country(country_name, no_of_visits, cities_visited):\n",
    "    new_country = {}\n",
    "    new_country[\"country\"] = country_name\n",
    "    new_country[\"visits\"] = no_of_visits\n",
    "    new_country[\"cities\"] = cities_visited\n",
    "    travel_log.append(new_country)\n",
    "\n",
    "\n",
    "# Do not change the code below 👇\n",
    "add_new_country(country, visits, list_of_cities)\n",
    "print(f\"I've been to {travel_log[2]['country']} {travel_log[2]['visits']} times.\")\n",
    "print(f\"My favourite city was {travel_log[2]['cities'][0]}.\")\n",
    "print(travel_log)"
   ]
  },
  {
   "cell_type": "code",
   "execution_count": 40,
   "id": "63e4b0e5",
   "metadata": {},
   "outputs": [],
   "source": [
    "order = {\n",
    "    \"starter\": {1: \"Salad\", 2: \"Soup\"},\n",
    "    \"main\": {1: [\"Burger\", \"Fries\"], 2: [\"Steak\"]},\n",
    "    \"dessert\": {1: [\"Ice Cream\"], 2: []},\n",
    "}"
   ]
  },
  {
   "cell_type": "code",
   "execution_count": 42,
   "id": "0f8613bc",
   "metadata": {},
   "outputs": [
    {
     "name": "stdout",
     "output_type": "stream",
     "text": [
      "Steak\n"
     ]
    }
   ],
   "source": [
    "print(order['main'][2][0])"
   ]
  },
  {
   "cell_type": "markdown",
   "id": "e5f38036",
   "metadata": {},
   "source": [
    "# Blind Auction"
   ]
  },
  {
   "cell_type": "code",
   "execution_count": 83,
   "id": "604c26c0",
   "metadata": {},
   "outputs": [],
   "source": [
    "logo = '''\n",
    "                         ___________\n",
    "                         \\         /\n",
    "                          )_______(\n",
    "                          |\"\"\"\"\"\"\"|_.-._,.---------.,_.-._\n",
    "                          |       | | |               | | ''-.\n",
    "                          |       |_| |_             _| |_..-'\n",
    "                          |_______| '-' `'---------'` '-'\n",
    "                          )\"\"\"\"\"\"\"(\n",
    "                         /_________\\\\\n",
    "                       .-------------.\n",
    "                      /_______________\\\\\n",
    "'''"
   ]
  },
  {
   "cell_type": "code",
   "execution_count": 84,
   "id": "091abd61",
   "metadata": {},
   "outputs": [
    {
     "name": "stdout",
     "output_type": "stream",
     "text": [
      "\n",
      "                         ___________\n",
      "                         \\         /\n",
      "                          )_______(\n",
      "                          |\"\"\"\"\"\"\"|_.-._,.---------.,_.-._\n",
      "                          |       | | |               | | ''-.\n",
      "                          |       |_| |_             _| |_..-'\n",
      "                          |_______| '-' `'---------'` '-'\n",
      "                          )\"\"\"\"\"\"\"(\n",
      "                         /_________\\\n",
      "                       .-------------.\n",
      "                      /_______________\\\n",
      "\n",
      "What is your name?: Diwakar\n",
      "what's your bid?: $10\n",
      "Are there any other bidders? Type 'yes' or 'no' yes\n",
      "What is your name?: Vinay\n",
      "what's your bid?: $11\n",
      "Are there any other bidders? Type 'yes' or 'no' no\n",
      "The winner is Vinay with a bid of $11\n"
     ]
    }
   ],
   "source": [
    "print(logo)\n",
    "auction = {}\n",
    "\n",
    "end_bidding = False\n",
    "\n",
    "def check_highest_bid(bidding_record):\n",
    "    highest_bid = 0\n",
    "    winner = \"\"\n",
    "    #bidding_record = {\"name\": 123, \"name2\": 110}\n",
    "    for bidder in bidding_record:\n",
    "        bid_amount = bidding_record[bidder]\n",
    "        if bid_amount > highest_bid:\n",
    "            highest_bid = bid_amount\n",
    "            winner = bidder\n",
    "    print(f\"The winner is {winner} with a bid of ${highest_bid}\")\n",
    "\n",
    "while end_bidding == False:\n",
    "    name = input(\"What is your name?: \")\n",
    "    price = int(input(\"what's your bid?: $\"))\n",
    "    auction[name] = price\n",
    "    \n",
    "    more_bidders = input(\"Are there any other bidders? Type 'yes' or 'no' \").lower()\n",
    "    \n",
    "    if more_bidders == 'no':\n",
    "        end_bidding = True\n",
    "#     elif more_bidders == 'yes':\n",
    "#         clear()\n",
    "\n",
    "\n",
    "check_highest_bid(auction)"
   ]
  },
  {
   "cell_type": "code",
   "execution_count": null,
   "id": "86a8256e",
   "metadata": {},
   "outputs": [],
   "source": []
  },
  {
   "cell_type": "code",
   "execution_count": null,
   "id": "fc66e7e2",
   "metadata": {},
   "outputs": [],
   "source": []
  },
  {
   "cell_type": "code",
   "execution_count": null,
   "id": "30159504",
   "metadata": {},
   "outputs": [],
   "source": []
  }
 ],
 "metadata": {
  "kernelspec": {
   "display_name": "Python 3 (ipykernel)",
   "language": "python",
   "name": "python3"
  },
  "language_info": {
   "codemirror_mode": {
    "name": "ipython",
    "version": 3
   },
   "file_extension": ".py",
   "mimetype": "text/x-python",
   "name": "python",
   "nbconvert_exporter": "python",
   "pygments_lexer": "ipython3",
   "version": "3.11.5"
  }
 },
 "nbformat": 4,
 "nbformat_minor": 5
}
