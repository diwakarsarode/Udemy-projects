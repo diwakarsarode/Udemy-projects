{
 "cells": [
  {
   "cell_type": "markdown",
   "id": "44c2a472",
   "metadata": {},
   "source": [
    "# Average height calculator"
   ]
  },
  {
   "cell_type": "code",
   "execution_count": 6,
   "id": "2503c5e0",
   "metadata": {},
   "outputs": [
    {
     "name": "stdout",
     "output_type": "stream",
     "text": [
      "154 325 345 112 324\n",
      "total height = 1260\n",
      "number of students = 5\n",
      "average height = 252\n"
     ]
    }
   ],
   "source": [
    "# Input a Python list of student heights\n",
    "student_heights = input().split()\n",
    "for n in range(0, len(student_heights)):\n",
    "    student_heights[n] = int(student_heights[n])\n",
    "\n",
    "\n",
    "total_height = 0\n",
    "for height in student_heights:\n",
    "    total_height = total_height + height\n",
    "print(f\"total height = {total_height}\")\n",
    "\n",
    "no_of_students = 0\n",
    "for student in student_heights:\n",
    "    no_of_students = no_of_students + 1\n",
    "print(f\"number of students = {no_of_students}\")\n",
    "\n",
    "average_height = round(total_height / no_of_students)\n",
    "print(f\"average height = {average_height}\")"
   ]
  },
  {
   "cell_type": "markdown",
   "id": "084ca6e2",
   "metadata": {},
   "source": [
    "# High score"
   ]
  },
  {
   "cell_type": "code",
   "execution_count": 7,
   "id": "01263178",
   "metadata": {},
   "outputs": [
    {
     "name": "stdout",
     "output_type": "stream",
     "text": [
      "12 12 52 68 69 91 32 99\n",
      "99\n"
     ]
    }
   ],
   "source": [
    "student_scores = input().split()\n",
    "for n in range(0, len(student_scores)):\n",
    "    student_scores[n] = int(student_scores[n])\n",
    "\n",
    "high_score = 0\n",
    "for score in student_scores:\n",
    "    if score > high_score:\n",
    "        high_score = score\n",
    "\n",
    "print(high_score)"
   ]
  },
  {
   "cell_type": "markdown",
   "id": "dc398f04",
   "metadata": {},
   "source": [
    "# Adding even numbers"
   ]
  },
  {
   "cell_type": "code",
   "execution_count": 13,
   "id": "3abd7a0f",
   "metadata": {},
   "outputs": [
    {
     "name": "stdout",
     "output_type": "stream",
     "text": [
      "11\n",
      "30\n"
     ]
    }
   ],
   "source": [
    "target = int(input()) # Enter a number between 0 and 1000\n",
    "\n",
    "\n",
    "total = 0\n",
    "for i in range(2, target, 2):\n",
    "    total += i\n",
    "\n",
    "if target % 2 == 0:\n",
    "    print(total + target)\n",
    "else:\n",
    "    print(total)"
   ]
  },
  {
   "cell_type": "code",
   "execution_count": 15,
   "id": "03aa2a78",
   "metadata": {},
   "outputs": [
    {
     "name": "stdout",
     "output_type": "stream",
     "text": [
      "11\n",
      "30\n"
     ]
    }
   ],
   "source": [
    "target = int(input())\n",
    "\n",
    "total = 0\n",
    "for i in range(2, target +1, 2):\n",
    "    total += i\n",
    "print(total)"
   ]
  },
  {
   "cell_type": "markdown",
   "id": "18befdba",
   "metadata": {},
   "source": [
    "# FIZZBUZZ"
   ]
  },
  {
   "cell_type": "code",
   "execution_count": 34,
   "id": "f478fc01",
   "metadata": {},
   "outputs": [
    {
     "name": "stdout",
     "output_type": "stream",
     "text": [
      "1\n",
      "2\n",
      "Fizz\n",
      "4\n",
      "Buzz\n",
      "Fizz\n",
      "7\n",
      "8\n",
      "Fizz\n",
      "Buzz\n",
      "11\n",
      "Fizz\n",
      "13\n",
      "14\n",
      "FizzBuzz\n",
      "16\n",
      "17\n",
      "Fizz\n",
      "19\n",
      "Buzz\n",
      "Fizz\n",
      "22\n",
      "23\n",
      "Fizz\n",
      "Buzz\n",
      "26\n",
      "Fizz\n",
      "28\n",
      "29\n",
      "FizzBuzz\n",
      "31\n",
      "32\n",
      "Fizz\n",
      "34\n",
      "Buzz\n",
      "Fizz\n",
      "37\n",
      "38\n",
      "Fizz\n",
      "Buzz\n",
      "41\n",
      "Fizz\n",
      "43\n",
      "44\n",
      "FizzBuzz\n",
      "46\n",
      "47\n",
      "Fizz\n",
      "49\n",
      "Buzz\n",
      "Fizz\n",
      "52\n",
      "53\n",
      "Fizz\n",
      "Buzz\n",
      "56\n",
      "Fizz\n",
      "58\n",
      "59\n",
      "FizzBuzz\n",
      "61\n",
      "62\n",
      "Fizz\n",
      "64\n",
      "Buzz\n",
      "Fizz\n",
      "67\n",
      "68\n",
      "Fizz\n",
      "Buzz\n",
      "71\n",
      "Fizz\n",
      "73\n",
      "74\n",
      "FizzBuzz\n",
      "76\n",
      "77\n",
      "Fizz\n",
      "79\n",
      "Buzz\n",
      "Fizz\n",
      "82\n",
      "83\n",
      "Fizz\n",
      "Buzz\n",
      "86\n",
      "Fizz\n",
      "88\n",
      "89\n",
      "FizzBuzz\n",
      "91\n",
      "92\n",
      "Fizz\n",
      "94\n",
      "Buzz\n",
      "Fizz\n",
      "97\n",
      "98\n",
      "Fizz\n",
      "Buzz\n"
     ]
    }
   ],
   "source": [
    "# target = 100\n",
    "for i in range(1, 101):\n",
    "    if i % 3 == 0 and i % 5 == 0:\n",
    "        print(\"FizzBuzz\")\n",
    "    elif i % 3 == 0:\n",
    "        print(\"Fizz\")\n",
    "    elif i % 5 == 0:\n",
    "        print(\"Buzz\")\n",
    "    else:\n",
    "        print(i)"
   ]
  },
  {
   "cell_type": "markdown",
   "id": "95d55bf4",
   "metadata": {},
   "source": [
    "# Password generator"
   ]
  },
  {
   "cell_type": "code",
   "execution_count": 70,
   "id": "3d93c8fd",
   "metadata": {},
   "outputs": [
    {
     "name": "stdout",
     "output_type": "stream",
     "text": [
      "Welcome to the PyPassword Generator!\n",
      "How many letters would you like in your password?\n",
      "4\n",
      "How many symbols would you like?\n",
      "2\n",
      "How many numbers would you like?\n",
      "2\n",
      "Your password generator suggests you to use this password - 8(#2MFIf\n"
     ]
    }
   ],
   "source": [
    "#Password Generator Project\n",
    "import random\n",
    "letters = ['a', 'b', 'c', 'd', 'e', 'f', 'g', 'h', 'i', 'j', 'k', 'l', 'm', 'n', 'o', 'p', 'q', 'r', \n",
    "           's', 't', 'u', 'v', 'w', 'x', 'y', 'z', 'A', 'B', 'C', 'D', 'E', 'F', 'G', 'H', 'I', 'J', \n",
    "           'K', 'L', 'M', 'N', 'O', 'P', 'Q', 'R', 'S', 'T', 'U', 'V', 'W', 'X', 'Y', 'Z']\n",
    "numbers = ['0', '1', '2', '3', '4', '5', '6', '7', '8', '9']\n",
    "symbols = ['!', '#', '$', '%', '&', '(', ')', '*', '+']\n",
    "\n",
    "print(\"Welcome to the PyPassword Generator!\")\n",
    "nr_letters= int(input(\"How many letters would you like in your password?\\n\")) \n",
    "nr_symbols = int(input(f\"How many symbols would you like?\\n\"))\n",
    "nr_numbers = int(input(f\"How many numbers would you like?\\n\"))\n",
    "\n",
    "\n",
    "password_list = []\n",
    "for letter in range(1, nr_letters +1):\n",
    "    random_letter = random.choice(letters)\n",
    "    password_list += random_letter\n",
    "\n",
    "for number in range(1, nr_numbers + 1):\n",
    "    password_list += random.choice(numbers)\n",
    "\n",
    "for symbol in range(1, nr_symbols + 1):\n",
    "    password_list += random.choice(symbols)\n",
    "    \n",
    "    \n",
    "shuffled_password = list(password_list)\n",
    "random.shuffle(shuffled_password)\n",
    "\n",
    "\n",
    "password = \"\"\n",
    "for letters in shuffled_password:\n",
    "    password += letters\n",
    "\n",
    "print(str(f\"Your password generator suggests you to use this password - {password}\"))"
   ]
  }
 ],
 "metadata": {
  "kernelspec": {
   "display_name": "Python 3 (ipykernel)",
   "language": "python",
   "name": "python3"
  },
  "language_info": {
   "codemirror_mode": {
    "name": "ipython",
    "version": 3
   },
   "file_extension": ".py",
   "mimetype": "text/x-python",
   "name": "python",
   "nbconvert_exporter": "python",
   "pygments_lexer": "ipython3",
   "version": "3.11.5"
  }
 },
 "nbformat": 4,
 "nbformat_minor": 5
}
