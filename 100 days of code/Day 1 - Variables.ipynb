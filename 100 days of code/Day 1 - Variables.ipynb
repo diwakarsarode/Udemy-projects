{
 "cells": [
  {
   "cell_type": "code",
   "execution_count": 1,
   "id": "f5c2c2f8",
   "metadata": {},
   "outputs": [
    {
     "name": "stdout",
     "output_type": "stream",
     "text": [
      "Day 1 - Python Print Function\n",
      "The function is declared like this:\n",
      "print('what to print')\n"
     ]
    }
   ],
   "source": [
    "print(\"Day 1 - Python Print Function\")\n",
    "print(\"The function is declared like this:\")\n",
    "print(\"print('what to print')\")"
   ]
  },
  {
   "cell_type": "code",
   "execution_count": 2,
   "id": "5ea197c7",
   "metadata": {},
   "outputs": [
    {
     "name": "stdout",
     "output_type": "stream",
     "text": [
      "Day 1 - String Manipulation\n",
      "String Concatenation is done with the \"+\" sign.\n",
      "e.g. print(\"Hello \" + \"world\")\n",
      "New lines can be created with a backslash and n.\n"
     ]
    }
   ],
   "source": [
    "print(\"Day 1 - String Manipulation\")\n",
    "print('String Concatenation is done with the \"+\" sign.')\n",
    "print('e.g. print(\"Hello \" + \"world\")')\n",
    "print(\"New lines can be created with a backslash and n.\")"
   ]
  },
  {
   "cell_type": "code",
   "execution_count": 3,
   "id": "35524144",
   "metadata": {},
   "outputs": [
    {
     "name": "stdout",
     "output_type": "stream",
     "text": [
      "Diwakar\n",
      "7\n"
     ]
    }
   ],
   "source": [
    "print(len(input()))"
   ]
  },
  {
   "cell_type": "code",
   "execution_count": 4,
   "id": "d5029471",
   "metadata": {},
   "outputs": [
    {
     "name": "stdout",
     "output_type": "stream",
     "text": [
      "Diwakar\n",
      "Vinay\n",
      "a: Vinay\n",
      "b: Diwakar\n"
     ]
    }
   ],
   "source": [
    "# There are two variables, a and b\n",
    "a = input()\n",
    "b = input()\n",
    "# Create a third variable to help switch the values\n",
    "c = a\n",
    "a = b\n",
    "b = c\n",
    "\n",
    "print(\"a: \" + a)\n",
    "print(\"b: \" + b)"
   ]
  },
  {
   "cell_type": "markdown",
   "id": "320a4aa2",
   "metadata": {},
   "source": [
    "# Band name generator"
   ]
  },
  {
   "cell_type": "code",
   "execution_count": 19,
   "id": "4cdfdc2f",
   "metadata": {},
   "outputs": [
    {
     "name": "stdout",
     "output_type": "stream",
     "text": [
      "Welcome to band name generator\n",
      "Which city did you grow up in?\n",
      "Bengaluru\n",
      "What is the name of your pet?\n",
      "Rooney\n",
      "Your band name could be 'Bengaluru Rooney'\n"
     ]
    }
   ],
   "source": [
    "print(\"Welcome to band name generator\")\n",
    "city = input(\"Which city did you grow up in?\\n\")\n",
    "pet_name = input(\"What is the name of your pet?\\n\")\n",
    "band_name = city + \" \" + pet_name\n",
    "print(\"Your band name could be \" + \"'\" + band_name + \"'\")"
   ]
  },
  {
   "cell_type": "code",
   "execution_count": null,
   "id": "ee458e5c",
   "metadata": {},
   "outputs": [],
   "source": []
  }
 ],
 "metadata": {
  "kernelspec": {
   "display_name": "Python 3 (ipykernel)",
   "language": "python",
   "name": "python3"
  },
  "language_info": {
   "codemirror_mode": {
    "name": "ipython",
    "version": 3
   },
   "file_extension": ".py",
   "mimetype": "text/x-python",
   "name": "python",
   "nbconvert_exporter": "python",
   "pygments_lexer": "ipython3",
   "version": "3.11.5"
  }
 },
 "nbformat": 4,
 "nbformat_minor": 5
}
