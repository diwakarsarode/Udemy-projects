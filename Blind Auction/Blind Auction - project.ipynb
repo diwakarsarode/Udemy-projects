{
 "cells": [
  {
   "cell_type": "code",
   "execution_count": 1,
   "id": "ada25fc2",
   "metadata": {},
   "outputs": [],
   "source": [
    "logo = '''\n",
    "                         ___________\n",
    "                         \\         /\n",
    "                          )_______(\n",
    "                          |\"\"\"\"\"\"\"|_.-._,.---------.,_.-._\n",
    "                          |       | | |               | | ''-.\n",
    "                          |       |_| |_             _| |_..-'\n",
    "                          |_______| '-' `'---------'` '-'\n",
    "                          )\"\"\"\"\"\"\"(\n",
    "                         /_________\\\\\n",
    "                       .-------------.\n",
    "                      /_______________\\\\\n",
    "'''"
   ]
  },
  {
   "cell_type": "code",
   "execution_count": 2,
   "id": "39eb3c2c",
   "metadata": {},
   "outputs": [
    {
     "name": "stdout",
     "output_type": "stream",
     "text": [
      "\n",
      "                         ___________\n",
      "                         \\         /\n",
      "                          )_______(\n",
      "                          |\"\"\"\"\"\"\"|_.-._,.---------.,_.-._\n",
      "                          |       | | |               | | ''-.\n",
      "                          |       |_| |_             _| |_..-'\n",
      "                          |_______| '-' `'---------'` '-'\n",
      "                          )\"\"\"\"\"\"\"(\n",
      "                         /_________\\\n",
      "                       .-------------.\n",
      "                      /_______________\\\n",
      "\n",
      "What is your name?: Diwakar\n",
      "what's your bid?: $10\n",
      "Are there any other bidders? Type 'yes' or 'no' Yes\n",
      "What is your name?: Vinay\n",
      "what's your bid?: $11\n",
      "Are there any other bidders? Type 'yes' or 'no' no\n",
      "The winner is Vinay with a bid of $11\n"
     ]
    }
   ],
   "source": [
    "print(logo)\n",
    "auction = {}\n",
    "\n",
    "end_bidding = False\n",
    "\n",
    "def check_highest_bid(bidding_record):\n",
    "    highest_bid = 0\n",
    "    winner = \"\"\n",
    "    \n",
    "    for bidder in bidding_record:\n",
    "        bid_amount = bidding_record[bidder]\n",
    "        if bid_amount > highest_bid:\n",
    "            highest_bid = bid_amount\n",
    "            winner = bidder\n",
    "    print(f\"The winner is {winner} with a bid of ${highest_bid}\")\n",
    "\n",
    "while end_bidding == False:\n",
    "    name = input(\"What is your name?: \")\n",
    "    price = int(input(\"what's your bid?: $\"))\n",
    "    auction[name] = price\n",
    "    \n",
    "    more_bidders = input(\"Are there any other bidders? Type 'yes' or 'no' \").lower()\n",
    "    \n",
    "    if more_bidders == 'no':\n",
    "        end_bidding = True\n",
    "\n",
    "check_highest_bid(auction)"
   ]
  }
 ],
 "metadata": {
  "kernelspec": {
   "display_name": "Python 3 (ipykernel)",
   "language": "python",
   "name": "python3"
  },
  "language_info": {
   "codemirror_mode": {
    "name": "ipython",
    "version": 3
   },
   "file_extension": ".py",
   "mimetype": "text/x-python",
   "name": "python",
   "nbconvert_exporter": "python",
   "pygments_lexer": "ipython3",
   "version": "3.11.5"
  }
 },
 "nbformat": 4,
 "nbformat_minor": 5
}
